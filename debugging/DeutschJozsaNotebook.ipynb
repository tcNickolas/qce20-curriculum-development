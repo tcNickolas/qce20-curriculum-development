{
 "cells": [
  {
   "cell_type": "markdown",
   "metadata": {},
   "source": [
    "# Deep Dive: Debugging Q# Code\n",
    "\n",
    "The Q# code in this task implements Deutsch-Jozsa algorithm for two example functions (one constant and one balanced). It contains exactly **8 bugs**, ranging from issues that will manifest as compilation errors to problems that will require running the fixed algorithm and analyzing its output.\n",
    "\n",
    "> You can find the corresponding learning exercises are in the following katas/tutorials:\n",
    ">\n",
    "> * [Exploring Deutsch-Jozsa Algorithm tutorial](https://github.com/microsoft/QuantumKatas/tree/main/tutorials/ExploringDeutschJozsaAlgorithm).\n",
    "> * [Deutsch-Jozsa Algorithm kata](https://github.com/microsoft/QuantumKatas/tree/main/DeutschJozsaAlgorithm)."
   ]
  },
  {
   "cell_type": "markdown",
   "metadata": {},
   "source": [
    "* Run the next cell using `Ctrl+Enter` (`⌘+Enter` on macOS) to compile the code. \n",
    "* Once the code compiles successfully, run the cell after it to see the runtime errors and the code output."
   ]
  },
  {
   "cell_type": "code",
   "execution_count": null,
   "metadata": {},
   "outputs": [],
   "source": [
    "// Note that Q# code in the notebook shouldn't be defined inside a namespace.\n",
    "open Microsoft.Quantum.Intrinsic;\n",
    "open Microsoft.Quantum.Canon;\n",
    "\n",
    "// Phase oracle implementing a constant function f(x) = 0\n",
    "operation PhaseOracleZero (inputRegister : Qubit[]) : Unit {\n",
    "    // Do nothing!\n",
    "}\n",
    "\n",
    "// Marking oracle implementing a balanced function f(x) = xₖ (the value of k-th bit)\n",
    "operation MarkingOracleKthBit (inputRegister : Qubit[], target : Qubit, k : Int) : Unit {\n",
    "    Controlled X(inputRegister[k], target);\n",
    "}\n",
    "\n",
    "operation ApplyMarkingOracleAsPhaseOracle (\n",
    "    markingOracle : ((Qubit[], Qubit) => Unit), \n",
    "    inputRegister : Qubit[]\n",
    ") : Unit {\n",
    "    use target = Qubit(1);\n",
    "    // Put the target into the |-⟩ state\n",
    "    X(target);\n",
    "    H(target);\n",
    "    // Apply the marking oracle; since the target is in the |-⟩ state,\n",
    "    // this will apply a -1 factor to the states that satisfy the oracle condition\n",
    "    markingOracle(inputRegister, target);\n",
    "}\n",
    "\n",
    "operation IsFunctionConstant (nQubits : Int, phaseOracle : (Qubit[] => Unit)) : Bool {\n",
    "    mutable isConstant = true;\n",
    "    use qubits = Qubit[nQubits];\n",
    "    // Apply the H gates, the oracle and the H gates again\n",
    "    within {\n",
    "        ApplyToEach(H, qubits);\n",
    "    } apply {\n",
    "        phaseOracle(qubits);\n",
    "    }\n",
    "    // Measure all qubits\n",
    "    let measurementResults = MultiM(qubits);\n",
    "    for (m in measurementResults) {\n",
    "        if (m == Zero) {\n",
    "            set isConstant = false;\n",
    "        }\n",
    "    }\n",
    "    return isConstant;\n",
    "}\n",
    "\n",
    "function ConstantOrBalanced (value : Bool) : String {\n",
    "    return value ? \"constant\" | \"balanced\";\n",
    "}\n",
    "\n",
    "// Note that Q# code in the notebook doesn't need @EntryPoint().\n",
    "// Instead, we'll call the operation with %simulate in the next cell.\n",
    "operation RunDeutschJozsaAlgorithm () : Unit {\n",
    "    // for constant function\n",
    "    let isZeroConstant = IsFunctionConstant(2, PhaseOracleZero);\n",
    "    Message($\"f(x) = 0 classified as {ConstantOrBalanced(isZeroConstant)}\");\n",
    "\n",
    "    // for balanced function\n",
    "    let phaseOracleKthBit = ApplyMarkingOracleAsPhaseOracle(MarkingOracleKthBit(_, _, 2), _);\n",
    "    let isKthBitConstant = IsFunctionConstant(2, phaseOracleKthBit);\n",
    "    Message(\"f(x) = xk classified as {ConstantOrBalanced(isKthBitConstant)}\");\n",
    "}"
   ]
  },
  {
   "cell_type": "code",
   "execution_count": null,
   "metadata": {},
   "outputs": [],
   "source": [
    "%simulate RunDeutschJozsaAlgorithm"
   ]
  }
 ],
 "metadata": {
  "kernelspec": {
   "display_name": "Q#",
   "language": "qsharp",
   "name": "iqsharp"
  },
  "language_info": {
   "file_extension": ".qs",
   "mimetype": "text/x-qsharp",
   "name": "qsharp",
   "version": "0.14"
  }
 },
 "nbformat": 4,
 "nbformat_minor": 2
}
